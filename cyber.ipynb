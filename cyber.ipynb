{
  "nbformat": 4,
  "nbformat_minor": 0,
  "metadata": {
    "colab": {
      "provenance": []
    },
    "kernelspec": {
      "name": "python3",
      "display_name": "Python 3"
    },
    "language_info": {
      "name": "python"
    }
  },
  "cells": [
    {
      "cell_type": "code",
      "execution_count": 1,
      "metadata": {
        "id": "6UFC2JWpshzk"
      },
      "outputs": [],
      "source": [
        "import pandas as pd\n"
      ]
    },
    {
      "cell_type": "code",
      "source": [
        "# Replace 'anomaly_detected_logins_large.csv' with your file path if needed\n",
        "df = pd.read_csv('anomaly_detected_logins_large.csv')\n"
      ],
      "metadata": {
        "id": "_9_3mzzrtsL2"
      },
      "execution_count": 2,
      "outputs": []
    },
    {
      "cell_type": "code",
      "source": [
        "print(df.head())\n"
      ],
      "metadata": {
        "colab": {
          "base_uri": "https://localhost:8080/"
        },
        "id": "3XN9CNb9tvr0",
        "outputId": "a9efc4d1-0b6e-4692-9048-7b006a8bdd39"
      },
      "execution_count": 3,
      "outputs": [
        {
          "output_type": "stream",
          "name": "stdout",
          "text": [
            "   user_id           login_time       ip_address        location  \\\n",
            "0        1  2025-01-08 21:27:25   175.128.193.19   Port Saratown   \n",
            "1        2  2025-01-03 19:13:16  162.239.146.227  South Julieton   \n",
            "2        3  2025-03-06 13:32:46    79.245.54.205        Johnbury   \n",
            "3        4  2025-03-04 15:01:44    113.248.35.30   Mitchellmouth   \n",
            "4        5  2025-01-03 19:55:53   37.141.146.181       Sarashire   \n",
            "\n",
            "   anomaly_score  \n",
            "0          0.392  \n",
            "1          0.509  \n",
            "2          0.780  \n",
            "3          0.253  \n",
            "4          0.135  \n"
          ]
        }
      ]
    },
    {
      "cell_type": "code",
      "source": [
        "print(df.info())"
      ],
      "metadata": {
        "colab": {
          "base_uri": "https://localhost:8080/"
        },
        "id": "_crLJBz3t0jl",
        "outputId": "1b09ab80-7c8d-4f6b-95b9-1a9d09608a29"
      },
      "execution_count": 5,
      "outputs": [
        {
          "output_type": "stream",
          "name": "stdout",
          "text": [
            "<class 'pandas.core.frame.DataFrame'>\n",
            "RangeIndex: 100000 entries, 0 to 99999\n",
            "Data columns (total 5 columns):\n",
            " #   Column         Non-Null Count   Dtype  \n",
            "---  ------         --------------   -----  \n",
            " 0   user_id        100000 non-null  int64  \n",
            " 1   login_time     100000 non-null  object \n",
            " 2   ip_address     100000 non-null  object \n",
            " 3   location       100000 non-null  object \n",
            " 4   anomaly_score  100000 non-null  float64\n",
            "dtypes: float64(1), int64(1), object(3)\n",
            "memory usage: 3.8+ MB\n",
            "None\n"
          ]
        }
      ]
    },
    {
      "cell_type": "code",
      "source": [
        "print(df.isnull().sum())\n"
      ],
      "metadata": {
        "colab": {
          "base_uri": "https://localhost:8080/"
        },
        "id": "KBPIVklht5LU",
        "outputId": "33240ef8-d3b1-4c33-a7ac-345dd0d2b9a6"
      },
      "execution_count": 6,
      "outputs": [
        {
          "output_type": "stream",
          "name": "stdout",
          "text": [
            "user_id          0\n",
            "login_time       0\n",
            "ip_address       0\n",
            "location         0\n",
            "anomaly_score    0\n",
            "dtype: int64\n"
          ]
        }
      ]
    },
    {
      "cell_type": "code",
      "source": [
        "import pandas as pd\n",
        "\n",
        "# Load the dataset (replace path if needed)\n",
        "df = pd.read_csv('anomaly_detected_logins_large.csv')\n",
        "\n",
        "# See the first 5 rows to understand what the data looks like\n",
        "print(df.head())\n",
        "\n",
        "# Check data types and if there are missing values\n",
        "print(df.info())\n",
        "\n",
        "# Get summary statistics to see data spread (optional)\n",
        "print(df.describe())\n"
      ],
      "metadata": {
        "colab": {
          "base_uri": "https://localhost:8080/"
        },
        "id": "bj-ILlw1uFGy",
        "outputId": "cd1a0e3a-8e2f-4e72-a2f5-ab99ff5d92a4"
      },
      "execution_count": 7,
      "outputs": [
        {
          "output_type": "stream",
          "name": "stdout",
          "text": [
            "   user_id           login_time       ip_address        location  \\\n",
            "0        1  2025-01-08 21:27:25   175.128.193.19   Port Saratown   \n",
            "1        2  2025-01-03 19:13:16  162.239.146.227  South Julieton   \n",
            "2        3  2025-03-06 13:32:46    79.245.54.205        Johnbury   \n",
            "3        4  2025-03-04 15:01:44    113.248.35.30   Mitchellmouth   \n",
            "4        5  2025-01-03 19:55:53   37.141.146.181       Sarashire   \n",
            "\n",
            "   anomaly_score  \n",
            "0          0.392  \n",
            "1          0.509  \n",
            "2          0.780  \n",
            "3          0.253  \n",
            "4          0.135  \n",
            "<class 'pandas.core.frame.DataFrame'>\n",
            "RangeIndex: 100000 entries, 0 to 99999\n",
            "Data columns (total 5 columns):\n",
            " #   Column         Non-Null Count   Dtype  \n",
            "---  ------         --------------   -----  \n",
            " 0   user_id        100000 non-null  int64  \n",
            " 1   login_time     100000 non-null  object \n",
            " 2   ip_address     100000 non-null  object \n",
            " 3   location       100000 non-null  object \n",
            " 4   anomaly_score  100000 non-null  float64\n",
            "dtypes: float64(1), int64(1), object(3)\n",
            "memory usage: 3.8+ MB\n",
            "None\n",
            "             user_id  anomaly_score\n",
            "count  100000.000000  100000.000000\n",
            "mean    50000.500000       0.500967\n",
            "std     28867.657797       0.288627\n",
            "min         1.000000       0.000000\n",
            "25%     25000.750000       0.250000\n",
            "50%     50000.500000       0.501000\n",
            "75%     75000.250000       0.750000\n",
            "max    100000.000000       1.000000\n"
          ]
        }
      ]
    },
    {
      "cell_type": "code",
      "source": [
        "# Convert the 'timestamp' column to datetime type\n",
        "df['login_time'] = pd.to_datetime(df['login_time'])\n",
        "\n",
        "# Extract new features: hour of day, day of month, weekday (0=Monday)\n",
        "df['hour'] = df['login_time'].dt.hour\n",
        "df['day'] = df['login_time'].dt.day\n",
        "df['weekday'] = df['login_time'].dt.weekday\n",
        "\n",
        "# Check if there are any missing values in these columns\n",
        "print(df[['login_time', 'hour', 'day', 'weekday']].isnull().sum())\n",
        "\n",
        "# Fill or drop missing values if necessary (example: forward fill)\n",
        "df.fillna(method='ffill', inplace=True)\n"
      ],
      "metadata": {
        "colab": {
          "base_uri": "https://localhost:8080/"
        },
        "id": "Uncauf6suH6h",
        "outputId": "54f532a9-8816-4767-9ced-04dac1623cfb"
      },
      "execution_count": 10,
      "outputs": [
        {
          "output_type": "stream",
          "name": "stdout",
          "text": [
            "login_time    0\n",
            "hour          0\n",
            "day           0\n",
            "weekday       0\n",
            "dtype: int64\n"
          ]
        },
        {
          "output_type": "stream",
          "name": "stderr",
          "text": [
            "<ipython-input-10-364bbd6b2809>:13: FutureWarning: DataFrame.fillna with 'method' is deprecated and will raise in a future version. Use obj.ffill() or obj.bfill() instead.\n",
            "  df.fillna(method='ffill', inplace=True)\n"
          ]
        }
      ]
    },
    {
      "cell_type": "code",
      "source": [
        "print(df.columns)\n",
        "\n"
      ],
      "metadata": {
        "colab": {
          "base_uri": "https://localhost:8080/"
        },
        "id": "_31ct7nQuZxZ",
        "outputId": "87535ccc-66da-4023-d544-9f7ed16fb712"
      },
      "execution_count": 9,
      "outputs": [
        {
          "output_type": "stream",
          "name": "stdout",
          "text": [
            "Index(['user_id', 'login_time', 'ip_address', 'location', 'anomaly_score'], dtype='object')\n"
          ]
        }
      ]
    },
    {
      "cell_type": "code",
      "source": [
        "# Group data by User_ID and day to aggregate daily behavior\n",
        "features_df = df.groupby(['user_id', 'day']).agg({\n",
        "    'login_time': 'count',      # Number of logins in that day (activity count)\n",
        "    'hour': ['mean', 'std'],   # Average login hour and variability\n",
        "}).reset_index()\n",
        "\n",
        "# Flatten multi-level column names after aggregation\n",
        "features_df.columns = ['user_id', 'day', 'login_count', 'avg_login_hour', 'std_login_hour']\n",
        "\n",
        "# Handle NaNs that may appear if only one login (std = NaN)\n",
        "features_df['std_login_hour'] = features_df['std_login_hour'].fillna(0)\n",
        "\n",
        "print(features_df.head())\n"
      ],
      "metadata": {
        "colab": {
          "base_uri": "https://localhost:8080/"
        },
        "id": "Y2VenDXSvMM4",
        "outputId": "8847cbde-88e7-4946-e59c-e0e779c1aeb1"
      },
      "execution_count": 11,
      "outputs": [
        {
          "output_type": "stream",
          "name": "stdout",
          "text": [
            "   user_id  day  login_count  avg_login_hour  std_login_hour\n",
            "0        1    8            1            21.0             0.0\n",
            "1        2    3            1            19.0             0.0\n",
            "2        3    6            1            13.0             0.0\n",
            "3        4    4            1            15.0             0.0\n",
            "4        5    3            1            19.0             0.0\n"
          ]
        }
      ]
    },
    {
      "cell_type": "code",
      "source": [
        "from sklearn.preprocessing import StandardScaler\n",
        "\n",
        "# Features to use for anomaly detection\n",
        "feature_cols = ['login_count', 'avg_login_hour', 'std_login_hour']\n",
        "\n",
        "# Extract feature matrix\n",
        "X = features_df[feature_cols]\n",
        "\n",
        "# Scale features\n",
        "scaler = StandardScaler()\n",
        "X_scaled = scaler.fit_transform(X)\n"
      ],
      "metadata": {
        "id": "FQ7LbTBTvboW"
      },
      "execution_count": 12,
      "outputs": []
    },
    {
      "cell_type": "code",
      "source": [
        "from sklearn.ensemble import IsolationForest\n",
        "\n",
        "# Initialize model with estimated contamination (expected anomaly fraction)\n",
        "model = IsolationForest(contamination=0.05, random_state=42)\n",
        "\n",
        "# Fit model\n",
        "model.fit(X_scaled)\n",
        "\n",
        "# Predict anomalies (-1 means anomaly, 1 means normal)\n",
        "features_df['anomaly'] = model.predict(X_scaled)\n",
        "\n",
        "# Map predictions to 0 (normal) and 1 (anomaly)\n",
        "features_df['anomaly'] = features_df['anomaly'].map({1: 0, -1: 1})\n",
        "\n",
        "print(features_df.head())\n"
      ],
      "metadata": {
        "colab": {
          "base_uri": "https://localhost:8080/"
        },
        "id": "oj0TOjHUvb_n",
        "outputId": "a67da7bd-f483-409a-b7e5-953e0e2ee088"
      },
      "execution_count": 13,
      "outputs": [
        {
          "output_type": "stream",
          "name": "stdout",
          "text": [
            "   user_id  day  login_count  avg_login_hour  std_login_hour  anomaly\n",
            "0        1    8            1            21.0             0.0        0\n",
            "1        2    3            1            19.0             0.0        0\n",
            "2        3    6            1            13.0             0.0        0\n",
            "3        4    4            1            15.0             0.0        0\n",
            "4        5    3            1            19.0             0.0        0\n"
          ]
        }
      ]
    },
    {
      "cell_type": "code",
      "source": [
        "import matplotlib.pyplot as plt\n",
        "\n",
        "plt.figure(figsize=(10,6))\n",
        "\n",
        "# Separate anomalies and normal points for better contrast\n",
        "normal = features_df[features_df['anomaly'] == 0]\n",
        "anomalies = features_df[features_df['anomaly'] == 1]\n",
        "\n",
        "# Plot normal points\n",
        "plt.scatter(\n",
        "    normal['login_count'],\n",
        "    normal['avg_login_hour'],\n",
        "    color='skyblue',\n",
        "    label='Normal',\n",
        "    alpha=0.6,\n",
        "    edgecolors='k'\n",
        ")\n",
        "\n",
        "# Plot anomaly points\n",
        "plt.scatter(\n",
        "    anomalies['login_count'],\n",
        "    anomalies['avg_login_hour'],\n",
        "    color='red',\n",
        "    label='Anomalies',\n",
        "    alpha=0.9,\n",
        "    s=80,\n",
        "    edgecolors='black'\n",
        ")\n",
        "\n",
        "plt.xlabel('Login Count per Day')\n",
        "plt.ylabel('Average Login Hour')\n",
        "plt.title('User Login Behavior - Highlighted Anomalies')\n",
        "plt.legend()\n",
        "plt.grid(True)\n",
        "plt.show()\n",
        "\n"
      ],
      "metadata": {
        "colab": {
          "base_uri": "https://localhost:8080/",
          "height": 564
        },
        "id": "dMFcVJ6Nvn3-",
        "outputId": "5b52b71d-bf88-4337-880c-fd9dd241c7a1"
      },
      "execution_count": 18,
      "outputs": [
        {
          "output_type": "display_data",
          "data": {
            "text/plain": [
              "<Figure size 1000x600 with 1 Axes>"
            ],
            "image/png": "[encoded data removed]"
          },
          "metadata": {}
        }
      ]
    }
  ]
}